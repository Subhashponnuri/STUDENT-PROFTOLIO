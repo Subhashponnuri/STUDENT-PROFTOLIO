{
 "cells": [
  {
   "cell_type": "markdown",
   "id": "42223f57",
   "metadata": {},
   "source": [
    "# project 1.0 : student protfolio\n"
   ]
  },
  {
   "cell_type": "code",
   "execution_count": 1,
   "id": "c752f422",
   "metadata": {},
   "outputs": [
    {
     "name": "stdout",
     "output_type": "stream",
     "text": [
      "enter name of the student:SUBHASH\n",
      "enter roll number of the student:14\n",
      "enter standard:10\n",
      "enter subject1:MATHS\n",
      "enter subject2:PHYSICS\n",
      "enter subject3:BIOLOGY\n",
      "enter subject4:SOCIAL\n",
      "enter marks for MATHS:90\n",
      "enter marks for PHYSICS:80\n",
      "enter marks for BIOLOGY:80\n",
      "enter marks for SOCIAL:90\n"
     ]
    }
   ],
   "source": [
    "Studentname = input(\"enter name of the student:\")\n",
    "Studentrollno = input(\"enter roll number of the student:\")\n",
    "Standard = input(\"enter standard:\")\n",
    "Subjects = [input(f'enter subject{i+1}:')for i in range(4)]\n",
    "Score = [int(input(f'enter marks for {Subjects[i]}:'))for i in range(4)]\n"
   ]
  },
  {
   "cell_type": "code",
   "execution_count": 4,
   "id": "580d8087",
   "metadata": {},
   "outputs": [
    {
     "name": "stdout",
     "output_type": "stream",
     "text": [
      "\t STUDENTDETAILS\n",
      "SUBHASH\n",
      "14\n",
      "10\n",
      " MATHS: 90\n",
      " PHYSICS: 80\n",
      " BIOLOGY: 80\n",
      " SOCIAL: 90\n",
      "percentage:85.0\n"
     ]
    }
   ],
   "source": [
    "print(\"\\t STUDENTDETAILS\")\n",
    "print(Studentname)\n",
    "print(Studentrollno)\n",
    "print(Standard)\n",
    "for i in range(4):\n",
    "    print(f' {Subjects[i]}: {Score[i]}')\n",
    "print(f'percentage:{((sum(Score)/400)*100)}')"
   ]
  },
  {
   "cell_type": "code",
   "execution_count": null,
   "id": "f9b579e2",
   "metadata": {},
   "outputs": [],
   "source": []
  }
 ],
 "metadata": {
  "kernelspec": {
   "display_name": "Python 3",
   "language": "python",
   "name": "python3"
  },
  "language_info": {
   "codemirror_mode": {
    "name": "ipython",
    "version": 3
   },
   "file_extension": ".py",
   "mimetype": "text/x-python",
   "name": "python",
   "nbconvert_exporter": "python",
   "pygments_lexer": "ipython3",
   "version": "3.8.8"
  }
 },
 "nbformat": 4,
 "nbformat_minor": 5
}
